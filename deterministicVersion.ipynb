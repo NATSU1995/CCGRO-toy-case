{
 "cells": [
  {
   "cell_type": "code",
   "execution_count": 20,
   "id": "519b9109-1aed-4daf-95e7-2e2430ac6b30",
   "metadata": {},
   "outputs": [],
   "source": [
    "import gurobipy as gp\n",
    "from gurobipy import GRB\n",
    "import numpy as np"
   ]
  },
  {
   "cell_type": "code",
   "execution_count": 21,
   "id": "c25188d2-3d9e-44b5-9853-ce317ce10039",
   "metadata": {},
   "outputs": [],
   "source": [
    "#ref: Solving two-stage robust optimization problems using a column-and-constraint generation method"
   ]
  },
  {
   "cell_type": "code",
   "execution_count": 22,
   "id": "1385219b-ccfd-42f5-b667-6376759a475d",
   "metadata": {},
   "outputs": [],
   "source": [
    "#define master problem"
   ]
  },
  {
   "cell_type": "code",
   "execution_count": 8,
   "id": "98330fc7-f99e-4ef3-9efb-d4052c20828e",
   "metadata": {
    "tags": []
   },
   "outputs": [
    {
     "name": "stdout",
     "output_type": "stream",
     "text": [
      "Optimal value 30536.0\n",
      "Optimal solution x[0,0] = 206 x[0,1] = 0 x[0,2] = 220 x[1,0] = 0 x[1,1] = 0 x[1,2] = 0 x[2,0] = 0 x[2,1] = 274 x[2,2] = 0 y[0] = 1 y[1] = 0 y[2] = 1 z[0] = 426 z[1] = 0 z[2] = 274 \n",
      "LB: 30536.0\n"
     ]
    }
   ],
   "source": [
    "\n",
    "# Constant creation\n",
    "f = [400, 414, 326]\n",
    "a = [18, 25, 20]\n",
    "C = [[22, 33, 24],\n",
    "      [33, 23, 30],\n",
    "      [20, 25, 27], ]\n",
    "d = [206, 274, 220]\n",
    "k = 0  # Iterative counting\n",
    "\n",
    "# Create model\n",
    "MP = gp.Model()  # Master-problem\n",
    "SP = gp.Model()  # Sub-problem(KKT)\n",
    "SPSD = gp.Model()  # Sub-problem (strong duality)\n",
    "# Construction of Master-problem\n",
    "# addVars\n",
    "x = MP.addVars(3, 3, lb=0, obj=C, vtype=GRB.CONTINUOUS, name='x')\n",
    "y = MP.addVars(len(f), lb=0, ub=1, obj=f, vtype=GRB.INTEGER, name='y')\n",
    "z = MP.addVars(len(a), lb=0, obj=a, vtype=GRB.CONTINUOUS, name='z')\n",
    "\n",
    "# addConstrs\n",
    "Column1 = MP.addConstrs((z[i] <= 800 * y[i] for i in range(3)), name='fixCap')\n",
    "Column4 = MP.addConstr(gp.quicksum(z[i] for i in range(3)) >= 700, name='zCap') #772=206+274+220+40*1.8\n",
    "S1 = MP.addConstrs(((gp.quicksum(x[i, j] for j in range(3))) <= z[i] for i in range(3)), name='zCap')\n",
    "S2 = MP.addConstrs(((gp.quicksum(x[i, j] for i in range(3))) >= d[j] for j in range(3)), name='demand')\n",
    "\n",
    "\n",
    "#MP.Params.timeLimit = 100.0 # 等价于 MP.setParam('timeLimit', 100)\n",
    "#MP.Params.InfUnbdInfo = 1  # Determines whether simplex (and crossover) will compute additional information when a model is determined to be infeasible or unbounded\n",
    "#设置是否在控制台显示优化信息：\n",
    "MP.Params.LogToConsole = 0\n",
    "#设置线性规划的求解方法：\n",
    "#MP.params.Method = 1  # 使用对偶单纯形法\n",
    "MP.params.Method = 0  # 使用原始单纯形法(迭代慢，但占内存小）\n",
    "#MP.params.Method = 2  # 使用内点法（gurobi称作barrier法）\n",
    "#检查约束条件，模型得不到可行解时，才能用这个函数\n",
    "#使用 MP.computeIIS() 检查不可行的约束条件\n",
    "#MP.computeIIS()\n",
    "#MP.write(\"MPilp.ilp\")\n",
    "#使用 m.feasRelax() 通过松弛最少的不可行约束条件，得到一个可行解（模型得不到可行解时，才能用这个函数）\n",
    "if MP.Status == 3: # model is infeasible \n",
    "    print(\"Model is infeasible\")\n",
    "    MP.computeIIS()\n",
    "    MP.write(\"model.ilp\")\n",
    "#print(MP.getConstrs())\n",
    "MP.write(\"MPDeter.lp\")  # model print and visual inspection model,can open it with Notepad++\n",
    "MP.optimize()  # Solve Model\n",
    "LB = MP.objval  # get optimum value of model\n",
    "print('Optimal value '+str(MP.ObjVal))\n",
    "print('Optimal solution', end = \" \")\n",
    "for i in MP.getVars():\n",
    "    print('%s = %g' % (i.varName, i.x), end = \" \")\n",
    "print()\n",
    "print('LB: '+str(LB))\n",
    "        "
   ]
  }
 ],
 "metadata": {
  "kernelspec": {
   "display_name": "Python 3 (ipykernel)",
   "language": "python",
   "name": "python3"
  },
  "language_info": {
   "codemirror_mode": {
    "name": "ipython",
    "version": 3
   },
   "file_extension": ".py",
   "mimetype": "text/x-python",
   "name": "python",
   "nbconvert_exporter": "python",
   "pygments_lexer": "ipython3",
   "version": "3.9.7"
  }
 },
 "nbformat": 4,
 "nbformat_minor": 5
}
