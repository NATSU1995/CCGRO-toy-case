{
 "cells": [
  {
   "cell_type": "code",
   "execution_count": 1,
   "id": "519b9109-1aed-4daf-95e7-2e2430ac6b30",
   "metadata": {},
   "outputs": [],
   "source": [
    "import gurobipy as gp\n",
    "from gurobipy import GRB\n",
    "import numpy as np"
   ]
  },
  {
   "cell_type": "code",
   "execution_count": 2,
   "id": "c25188d2-3d9e-44b5-9853-ce317ce10039",
   "metadata": {},
   "outputs": [],
   "source": [
    "#ref: Solving two-stage robust optimization problems using a column-and-constraint generation method"
   ]
  },
  {
   "cell_type": "code",
   "execution_count": 3,
   "id": "1385219b-ccfd-42f5-b667-6376759a475d",
   "metadata": {},
   "outputs": [],
   "source": [
    "#define master problem"
   ]
  },
  {
   "cell_type": "code",
   "execution_count": 4,
   "id": "98330fc7-f99e-4ef3-9efb-d4052c20828e",
   "metadata": {
    "tags": []
   },
   "outputs": [
    {
     "name": "stdout",
     "output_type": "stream",
     "text": [
      "Set parameter Username\n",
      "Academic license - for non-commercial use only - expires 2022-06-27\n",
      "Optimal value 13000.0\n",
      "Optimal solution y[0] = 1 y[1] = 0 y[2] = 0 z[0] = 700 z[1] = 0 z[2] = 0 g[0] = 0 g[1] = 0 g[2] = 0 η = 0 \n",
      "LB: 13000.0\n"
     ]
    }
   ],
   "source": [
    "\n",
    "# Constant creation\n",
    "f = [400, 414, 326]\n",
    "a = [18, 25, 20]\n",
    "C = [[22, 33, 24],\n",
    "      [33, 23, 30],\n",
    "      [20, 25, 27], ]\n",
    "D = [206 + 40, 274 + 40, 220 + 40]\n",
    "dl = [206, 274, 220]\n",
    "du = [40, 40, 40]\n",
    "k = 0  # Iterative counting\n",
    "\n",
    "# Create model\n",
    "MP = gp.Model()  # Master-problem\n",
    "SP = gp.Model()  # Sub-problem(KKT)\n",
    "SPSD = gp.Model()  # Sub-problem (strong duality)\n",
    "# Construction of Master-problem\n",
    "# addVars\n",
    "y = MP.addVars(len(f), lb=0, ub=1, obj=f, vtype=GRB.INTEGER, name='y')\n",
    "z = MP.addVars(len(a), lb=0, obj=a, vtype=GRB.CONTINUOUS, name='z')\n",
    "#g = MP.addVars(3, lb=0, ub=1.0, name='g')\n",
    "#deterministic problem\n",
    "g = MP.addVars(3, lb=0, ub=0.0, name='g')\n",
    "η = MP.addVar(obj=1.0, name='η')\n",
    "\n",
    "# addConstrs\n",
    "Column1 = MP.addConstrs((z[i] <= 800 * y[i] for i in range(3)), name='fixCap')\n",
    "#Column4 = MP.addConstr(gp.quicksum(z[i] for i in range(3)) >= 772, name='zCap') #772=206+274+220+40*1.8\n",
    "#deterministic problem\n",
    "Column4 = MP.addConstr(gp.quicksum(z[i] for i in range(3)) >= 700, name='zCap') #772=206+274+220+40*1.8\n",
    "Column5 = MP.addConstr(gp.quicksum(g[i] for i in range(2)) <= 1.2, name='uncertSet1')\n",
    "Column6 = MP.addConstr(gp.quicksum(g[i] for i in range(3)) <= 1.8, name='uncertSet2')\n",
    "\n",
    "#MP.Params.timeLimit = 100.0 # 等价于 MP.setParam('timeLimit', 100)\n",
    "#MP.Params.InfUnbdInfo = 1  # Determines whether simplex (and crossover) will compute additional information when a model is determined to be infeasible or unbounded\n",
    "#设置是否在控制台显示优化信息：\n",
    "MP.Params.LogToConsole = 0\n",
    "#设置线性规划的求解方法：\n",
    "#MP.params.Method = 1  # 使用对偶单纯形法\n",
    "MP.params.Method = 0  # 使用原始单纯形法(迭代慢，但占内存小）\n",
    "#MP.params.Method = 2  # 使用内点法（gurobi称作barrier法）\n",
    "#检查约束条件，模型得不到可行解时，才能用这个函数\n",
    "#使用 MP.computeIIS() 检查不可行的约束条件\n",
    "#MP.computeIIS()\n",
    "#MP.write(\"MPilp.ilp\")\n",
    "#使用 m.feasRelax() 通过松弛最少的不可行约束条件，得到一个可行解（模型得不到可行解时，才能用这个函数）\n",
    "if MP.Status == 3: # model is infeasible \n",
    "    print(\"Model is infeasible\")\n",
    "    MP.computeIIS()\n",
    "    MP.write(\"model.ilp\")\n",
    "#print(MP.getConstrs())\n",
    "MP.write(\"MPccg.lp\")  # model print and visual inspection model,can open it with Notepad++\n",
    "MP.optimize()  # Solve Model\n",
    "LB = MP.objval  # get optimum value of model\n",
    "print('Optimal value '+str(MP.ObjVal))\n",
    "print('Optimal solution', end = \" \")\n",
    "for i in MP.getVars():\n",
    "    print('%s = %g' % (i.varName, i.x), end = \" \")\n",
    "print()\n",
    "print('LB: '+str(LB))\n",
    "        "
   ]
  },
  {
   "cell_type": "code",
   "execution_count": 5,
   "id": "3fbc2db0-abd8-42c2-bc71-3d1f64d06be2",
   "metadata": {},
   "outputs": [],
   "source": [
    "#define Sub-problem"
   ]
  },
  {
   "cell_type": "code",
   "execution_count": 6,
   "id": "64d82cc9-980e-419e-9c16-6b43ceb1c1bc",
   "metadata": {},
   "outputs": [
    {
     "name": "stdout",
     "output_type": "stream",
     "text": [
      "Warning: linear constraint 15 and linear constraint 24 have the same name \"linearX1[0,0]\"\n",
      "Optimal value 18854.0\n",
      "Optimal solution x[0,0] = 206 x[0,1] = 274 x[0,2] = 220 x[1,0] = 0 x[1,1] = 0 x[1,2] = 0 x[2,0] = 0 x[2,1] = 0 x[2,2] = 0 g[0] = 0 g[1] = 0 g[2] = 0 alpha[0,0] = 1 alpha[0,1] = 1 alpha[0,2] = 1 alpha[1,0] = 0 alpha[1,1] = 0 alpha[1,2] = 0 alpha[2,0] = 0 alpha[2,1] = 0 alpha[2,2] = 0 beta[0] = 1 beta[1] = 1 beta[2] = 1 gamma[0] = 1 gamma[1] = 1 gamma[2] = 1 lambda[0] = 22 lambda[1] = 33 lambda[2] = 24 pi[0] = 0 pi[1] = 33 pi[2] = 30 \n",
      "UB: 31854.0\n"
     ]
    }
   ],
   "source": [
    "#from MP import *\n",
    "\n",
    "# 添加变量\n",
    "Mx = np.zeros((3, 3))\n",
    "Mλ = np.zeros((3))\n",
    "Mπ = np.zeros((3))\n",
    "for i in range(3):\n",
    "    for j in range(3):\n",
    "        Mx[i][j] = min(D[j], z[i].x)\n",
    "        Mλ[i] = max(C[i][0], C[i][1], C[i][2])\n",
    "        Mπ[i] = max(C[0][i], C[1][i], C[2][i])\n",
    "# 子问题求解kkt\n",
    "x = SP.addVars(3, 3, lb=0, vtype=GRB.CONTINUOUS, name='x')\n",
    "g = SP.addVars(3, lb=0, ub=0.0, name='g')\n",
    "d = [206 + 40 * g[0], 274 + 40 * g[1], 220 + 40 * g[2]]\n",
    "α = SP.addVars(3, 3, vtype=GRB.BINARY, name='alpha')  #\n",
    "β = SP.addVars(3, vtype=GRB.BINARY, name='beta')\n",
    "γ = SP.addVars(3, vtype=GRB.BINARY, name='gamma') \n",
    "λ = SP.addVars(3, vtype=GRB.CONTINUOUS, name='lambda') #dual variable of demand\n",
    "π = SP.addVars(3, vtype=GRB.CONTINUOUS, name='pi') #demand varuavke if capacity\n",
    "A = [252, 0, 520]\n",
    "S1 = SP.addConstrs(((gp.quicksum(x[i, j] for j in range(3))) <= z[i].x for i in range(3)), name='zCap')\n",
    "S2 = SP.addConstrs(((gp.quicksum(x[i, j] for i in range(3))) >= d[j] for j in range(3)), name='demand')\n",
    "S3 = SP.addConstrs(((λ[j] - π[i]) <= C[i][j] for i in range(3) for j in range(3)), name='dualConstr')\n",
    "S4 = SP.addConstrs((Mx[i][j] * α[i, j] >= x[i, j] for i in range(3) for j in range(3)), name='linearX1') #complementary slackness: product-linearization of x\n",
    "S5 = SP.addConstrs(\n",
    "    ((C[i][j] - λ[j] + π[i]) <= (C[i][j] + Mπ[i]) * (1 - α[i, j]) for i in range(3) for j in range(3)),\n",
    "    name='linearX1')\n",
    "S6 = SP.addConstrs((λ[j] <= Mλ[j] * β[j] for j in range(3)), name='linearLam1') #complementary slackness: product-linearization of lambda\n",
    "S7 = SP.addConstrs(((gp.quicksum(x[i, j] for i in range(3)) - d[j]) <= 40 * (1 - β[j]) for j in range(3)),\n",
    "                   name='linearLam2')\n",
    "S8 = SP.addConstrs((π[i] <= Mπ[i] * γ[i] for i in range(3)), name='linearPi1') #complementary slackness: product-linearization of pi\n",
    "S9 = SP.addConstrs(((z[i].x - gp.quicksum(x[i, j] for j in range(3))) <= (1 - γ[i]) * z[i].x for i in range(3)),\n",
    "                   name='linearPi2')\n",
    "SP.addConstr(gp.quicksum(g[i] for i in range(2)) <= 1.2, name='uncertSet1')\n",
    "SP.addConstr(gp.quicksum(g[i] for i in range(3)) <= 1.8, name='uncertSet2')\n",
    "obj = gp.quicksum(C[i][j] * x[i, j] for i in range(3) for j in range(3))\n",
    "SP.setObjective(obj, GRB.MAXIMIZE)  # set Objective is max\n",
    "SP.write(\"SPkkt.lp\")\n",
    "SP.Params.LogToConsole = 0\n",
    "SP.optimize()\n",
    "print('Optimal value '+str(SP.ObjVal))\n",
    "print('Optimal solution', end = \" \")\n",
    "for i in SP.getVars():\n",
    "    print('%s = %g' % (i.varName, i.x), end = \" \")\n",
    "print()\n",
    "\n",
    "d = [dl[i] + du[i] * g[i].x for i in range(3)]\n",
    "UB = LB - η.x + SP.objval\n",
    "print('UB: '+str(UB))\n"
   ]
  },
  {
   "cell_type": "code",
   "execution_count": 7,
   "id": "bb50a3ce-d540-4cd4-9e97-3d63ee1532df",
   "metadata": {},
   "outputs": [
    {
     "name": "stdout",
     "output_type": "stream",
     "text": [
      "k: 1\n",
      "Optimal value 30536.0\n",
      "Optimal solution y[0] = 1 y[1] = -0 y[2] = 1 z[0] = 220 z[1] = 0 z[2] = 480 g[0] = 0 g[1] = 0 g[2] = 0 η = 16250 x[0,0] = 0 x[0,1] = 0 x[0,2] = 220 x[1,0] = 0 x[1,1] = 0 x[1,2] = 0 x[2,0] = 206 x[2,1] = 274 x[2,2] = 0 \n",
      "LB: 30536.0\n",
      "Optimal value 16250.0\n",
      "Optimal solution x[0,0] = 0 x[0,1] = 0 x[0,2] = 220 x[1,0] = 0 x[1,1] = 0 x[1,2] = 0 x[2,0] = 206 x[2,1] = 274 x[2,2] = 0 g[0] = 0 g[1] = 0 g[2] = 0 alpha[0,0] = 0 alpha[0,1] = 0 alpha[0,2] = 1 alpha[1,0] = 0 alpha[1,1] = 0 alpha[1,2] = 0 alpha[2,0] = 1 alpha[2,1] = 1 alpha[2,2] = 0 beta[0] = 1 beta[1] = 1 beta[2] = 1 gamma[0] = 1 gamma[1] = 1 gamma[2] = 1 lambda[0] = 20 lambda[1] = 25 lambda[2] = 27 pi[0] = 3 pi[1] = 33 pi[2] = 0 \n",
      "UB: 30536.0\n"
     ]
    }
   ],
   "source": [
    "\"\"\"\n",
    "learn from Paper named:\n",
    "Solving two-stage robust optimization problems using a column-and-constraint generation method\n",
    "Author:Su XY\n",
    "Time:2019-3-1\n",
    "Place of creation:iPso\n",
    "Revised by:CAI Yun\n",
    "Time:2022-4-30\n",
    "\"\"\"\n",
    "#from SPKKT import *\n",
    "\n",
    "while UB - LB > 10e-4:\n",
    "    k = k + 1  # Iterative counting\n",
    "    print('k: '+str(k))\n",
    "    xx = MP.addVars(3, 3, lb=0, vtype=GRB.CONTINUOUS, name='x')\n",
    "    Column2 = MP.addConstrs(((gp.quicksum(xx[i, j] for j in range(3))) <= z[i] for i in range(3)), name='zCap')\n",
    "    Column3 = MP.addConstrs(((gp.quicksum(xx[i, j] for i in range(3))) >= d[j] for j in range(3)), name='demand')\n",
    "    Column7 = MP.addConstr(gp.quicksum(C[i][j] * xx[i, j] for i in range(3) for j in range(3)) <= η, name='constrGen')\n",
    "    MP.write('MPccg_' + str(k) + '.lp')\n",
    "    MP.optimize()\n",
    "    LB = MP.objval\n",
    "    print('Optimal value '+str(MP.ObjVal))\n",
    "    print('Optimal solution', end = \" \")\n",
    "    for i in MP.getVars():\n",
    "        print('%s = %g' % (i.varName, i.x), end = \" \")\n",
    "    print()\n",
    "    print('LB: '+str(LB))\n",
    "    SP.remove(SP.getConstrs()[0:6])\n",
    "    SP.remove(SP.getConstrs()[15:23])\n",
    "    SP.remove(SP.getConstrs()[36:39])\n",
    "    SP.remove(SP.getConstrs()[42:45])\n",
    "    S1 = SP.addConstrs(((gp.quicksum(x[i, j] for j in range(3))) <= z[i].x for i in range(3)), name='zCap')\n",
    "    S2 = SP.addConstrs(((gp.quicksum(x[i, j] for i in range(3))) >= d[j] for j in range(3)), name='demand')\n",
    "    S7 = SP.addConstrs(((gp.quicksum(x[i, j] for i in range(3)) - d[j]) <= 40 * (1 - β[j]) for j in range(3)),\n",
    "                       name='uncertSetLinear1')\n",
    "    S9 = SP.addConstrs(((z[i].x - gp.quicksum(x[i, j] for j in range(3))) <= (1 - γ[i]) * z[i].x for i in range(3)),\n",
    "                       name='uncertSetLinear2')\n",
    "    for i in range(3):\n",
    "        for j in range(3):\n",
    "            Mx[i][j] = min(D[j], z[i].x)\n",
    "    S4 = SP.addConstrs((Mx[i][j] * α[i, j] >= x[i, j] for i in range(3) for j in range(3)), name='maxDemand')\n",
    "    SP.write('CCGkkt_'+str(k)+'.lp')\n",
    "    SP.optimize()\n",
    "    print('Optimal value '+str(SP.ObjVal))\n",
    "    print('Optimal solution', end = \" \")\n",
    "    for i in SP.getVars():\n",
    "        print('%s = %g' % (i.varName, i.x), end = \" \")\n",
    "    print()\n",
    "    UB = min(UB, LB - η.x + SP.objval)  # update UB\n",
    "    print('UB: '+str(UB))\n",
    "\n"
   ]
  },
  {
   "cell_type": "code",
   "execution_count": null,
   "id": "e35cdd07-11d1-4643-83bd-e0d48e60b67b",
   "metadata": {},
   "outputs": [],
   "source": []
  },
  {
   "cell_type": "code",
   "execution_count": null,
   "id": "677e6c75-2ecc-44f4-8b60-a23e44ba341a",
   "metadata": {},
   "outputs": [],
   "source": []
  },
  {
   "cell_type": "code",
   "execution_count": null,
   "id": "0b77bd29-2d31-4857-8414-f7de59476c13",
   "metadata": {},
   "outputs": [],
   "source": []
  },
  {
   "cell_type": "code",
   "execution_count": null,
   "id": "617ce2c8-527c-4e73-9578-1ad87f2a3c0d",
   "metadata": {},
   "outputs": [],
   "source": []
  },
  {
   "cell_type": "code",
   "execution_count": null,
   "id": "dbb4cfe3-393e-4e3d-bb43-72407a61766d",
   "metadata": {},
   "outputs": [],
   "source": []
  },
  {
   "cell_type": "code",
   "execution_count": null,
   "id": "c2ab78e5-b121-4636-8516-85c9c5bfa9ff",
   "metadata": {},
   "outputs": [],
   "source": []
  },
  {
   "cell_type": "code",
   "execution_count": null,
   "id": "0c3e15bd-fa62-42be-97e7-28221e4301ea",
   "metadata": {},
   "outputs": [],
   "source": []
  },
  {
   "cell_type": "code",
   "execution_count": null,
   "id": "7e583644-443e-441e-a38c-9b37bf08ce60",
   "metadata": {},
   "outputs": [],
   "source": []
  },
  {
   "cell_type": "code",
   "execution_count": null,
   "id": "ecc67175-2957-4a17-88c8-b648a1b31130",
   "metadata": {},
   "outputs": [],
   "source": []
  }
 ],
 "metadata": {
  "kernelspec": {
   "display_name": "Python 3 (ipykernel)",
   "language": "python",
   "name": "python3"
  },
  "language_info": {
   "codemirror_mode": {
    "name": "ipython",
    "version": 3
   },
   "file_extension": ".py",
   "mimetype": "text/x-python",
   "name": "python",
   "nbconvert_exporter": "python",
   "pygments_lexer": "ipython3",
   "version": "3.7.1"
  }
 },
 "nbformat": 4,
 "nbformat_minor": 5
}
