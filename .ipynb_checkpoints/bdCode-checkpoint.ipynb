{
 "cells": [
  {
   "cell_type": "code",
   "execution_count": 1,
   "id": "0a504a22-7f58-448f-bd40-6688eb021f0d",
   "metadata": {},
   "outputs": [
    {
     "data": {
      "text/plain": [
       "'\\nlearn from Paper named:\\nSolving two-stage robust optimization problems using a column-and-constraint generation method\\nAuthor:Su XY\\nTime:2019-3-1\\nPlace of creation:iPso\\nRevised by:CAI Yun\\nTime:2022-4-30\\n'"
      ]
     },
     "execution_count": 1,
     "metadata": {},
     "output_type": "execute_result"
    }
   ],
   "source": [
    "\"\"\"\n",
    "learn from Paper named:\n",
    "Solving two-stage robust optimization problems using a column-and-constraint generation method\n",
    "Author:Su XY\n",
    "Time:2019-3-1\n",
    "Place of creation:iPso\n",
    "Revised by:CAI Yun\n",
    "Time:2022-4-30\n",
    "\"\"\""
   ]
  },
  {
   "cell_type": "code",
   "execution_count": 2,
   "id": "15f45add-12a7-4385-910e-a4ad3afdebdf",
   "metadata": {},
   "outputs": [],
   "source": [
    "import gurobipy as gp\n",
    "from gurobipy import GRB\n",
    "import numpy as np"
   ]
  },
  {
   "cell_type": "code",
   "execution_count": 3,
   "id": "c25188d2-3d9e-44b5-9853-ce317ce10039",
   "metadata": {},
   "outputs": [],
   "source": [
    "#ref: Solving two-stage robust optimization problems using a column-and-constraint generation method"
   ]
  },
  {
   "cell_type": "code",
   "execution_count": 4,
   "id": "1385219b-ccfd-42f5-b667-6376759a475d",
   "metadata": {},
   "outputs": [],
   "source": [
    "#define master problem"
   ]
  },
  {
   "cell_type": "code",
   "execution_count": 5,
   "id": "98330fc7-f99e-4ef3-9efb-d4052c20828e",
   "metadata": {
    "tags": []
   },
   "outputs": [
    {
     "name": "stdout",
     "output_type": "stream",
     "text": [
      "k: 0\n",
      "Set parameter Username\n",
      "Academic license - for non-commercial use only - expires 2022-06-27\n",
      "Optimal value 13000.0\n",
      "Optimal solution y[0] = 1 y[1] = -0 y[2] = -0 z[0] = 700 z[1] = -0 z[2] = -0 g[0] = 0 g[1] = 0 g[2] = 0 η = 0 \n",
      "LB: 13000.0\n"
     ]
    }
   ],
   "source": [
    "\n",
    "# Constant creation\n",
    "f = [400, 414, 326]\n",
    "a = [18, 25, 20]\n",
    "C = [[22, 33, 24],\n",
    "      [33, 23, 30],\n",
    "      [20, 25, 27], ]\n",
    "D = [206 + 40, 274 + 40, 220 + 40]\n",
    "dl = [206, 274, 220]\n",
    "du = [40, 40, 40]\n",
    "k = 0  # Iterative counting\n",
    "print('k: '+str(k))\n",
    "# Create model\n",
    "MP = gp.Model()  # Master-problem\n",
    "SP = gp.Model()  # Sub-problem(KKT)\n",
    "SPSD = gp.Model()  # Sub-problem (strong duality)\n",
    "# Construction of Master-problem\n",
    "# addVars\n",
    "y = MP.addVars(len(f), lb=0, ub=1, obj=f, vtype=GRB.INTEGER, name='y')\n",
    "z = MP.addVars(len(a), lb=0, obj=a, vtype=GRB.INTEGER, name='z')\n",
    "#g = MP.addVars(3, lb=0, ub=1.0, name='g')\n",
    "#deterministic problem\n",
    "g = MP.addVars(3, lb=0, ub=0.0, name='g')\n",
    "η = MP.addVar(obj=1.0, name='η')\n",
    "\n",
    "# addConstrs\n",
    "Column1 = MP.addConstrs((z[i] <= 800 * y[i] for i in range(3)), name='fixCap')\n",
    "#Column4 = MP.addConstr(gp.quicksum(z[i] for i in range(3)) >= 772, name='zCap') #772=206+274+220+40*1.8\n",
    "#deterministic problem\n",
    "Column4 = MP.addConstr(gp.quicksum(z[i] for i in range(3)) >= 700, name='zCap') #772=206+274+220+40*1.8\n",
    "Column5 = MP.addConstr(gp.quicksum(g[i] for i in range(2)) <= 1.2, name='uncertSet1')\n",
    "Column6 = MP.addConstr(gp.quicksum(g[i] for i in range(3)) <= 1.8, name='uncertSet2')\n",
    "\n",
    "#MP.Params.timeLimit = 100.0 # 等价于 MP.setParam('timeLimit', 100)\n",
    "#MP.Params.InfUnbdInfo = 1  # Determines whether simplex (and crossover) will compute additional information when a model is determined to be infeasible or unbounded\n",
    "#设置是否在控制台显示优化信息：\n",
    "MP.Params.LogToConsole = 0\n",
    "#设置线性规划的求解方法：\n",
    "#MP.params.Method = 1  # 使用对偶单纯形法\n",
    "MP.params.Method = 0  # 使用原始单纯形法(迭代慢，但占内存小）\n",
    "#MP.params.Method = 2  # 使用内点法（gurobi称作barrier法）\n",
    "#检查约束条件，模型得不到可行解时，才能用这个函数\n",
    "#使用 MP.computeIIS() 检查不可行的约束条件\n",
    "#MP.computeIIS()\n",
    "#MP.write(\"MPilp.ilp\")\n",
    "#使用 m.feasRelax() 通过松弛最少的不可行约束条件，得到一个可行解（模型得不到可行解时，才能用这个函数）\n",
    "if MP.Status == 3: # model is infeasible \n",
    "    print(\"Model is infeasible\")\n",
    "    MP.computeIIS()\n",
    "    MP.write(\"model.ilp\")\n",
    "#print(MP.getConstrs())\n",
    "MP.write(\"MPbd.lp\")  # model print and visual inspection model,can open it with Notepad++\n",
    "MP.optimize()  # Solve Model\n",
    "\n",
    "print('Optimal value '+str(MP.ObjVal))\n",
    "print('Optimal solution', end = \" \")\n",
    "for i in MP.getVars():\n",
    "    print('%s = %g' % (i.varName, i.x), end = \" \")\n",
    "print()\n",
    "\n",
    "LB = MP.objval  # get optimum value of model\n",
    "print('LB: '+str(LB))"
   ]
  },
  {
   "cell_type": "code",
   "execution_count": 6,
   "id": "3fbc2db0-abd8-42c2-bc71-3d1f64d06be2",
   "metadata": {},
   "outputs": [],
   "source": [
    "#define Sub-problem by Benders-dual method (SP1)\n",
    "#the resulting problem in (SP1) is a bilinear optimization problem"
   ]
  },
  {
   "cell_type": "code",
   "execution_count": 7,
   "id": "64d82cc9-980e-419e-9c16-6b43ceb1c1bc",
   "metadata": {
    "tags": []
   },
   "outputs": [
    {
     "name": "stdout",
     "output_type": "stream",
     "text": [
      "Optimal value 18854.0\n",
      "Optimal solution lambda[0] = 22 lambda[1] = 33 lambda[2] = 24 w[0] = 0 w[1] = 0 w[2] = 0 pi[0] = 0 pi[1] = 10 pi[2] = 8 g[0] = 0 g[1] = 0 g[2] = 0 \n",
      "UB: 31854.0\n"
     ]
    }
   ],
   "source": [
    "\n",
    "d = [dl[i] + du[i] * g[i].x for i in range(3)]\n",
    "# zupd = []\n",
    "# zupd.append([z[i].x for i in range(3)])\n",
    "SPSD = gp.Model(\"SPSD\")\n",
    "# Construction of Sub-problem (strong duality)\n",
    "# addVars\n",
    "lab = SPSD.addVars(3, lb=0, name='lambda')\n",
    "w = SPSD.addVars(3, lb=0, name='w')\n",
    "pi = SPSD.addVars(3, lb=0, name='pi')\n",
    "#g = MP.addVars(3, lb=0, ub=1.0, name='g')\n",
    "#deterministic problem\n",
    "g = SPSD.addVars(3, lb=0, ub=0.0, name='g')\n",
    "M = np.zeros((3))\n",
    "for i in range(3):\n",
    "    for j in range(3):\n",
    "        M[i] = max(C[i][0], C[i][1], C[i][2])\n",
    "# addConstrs\n",
    "SD1 = SPSD.addConstrs(((lab[j] - pi[i]) <= C[i][j] for i in range(3) for j in range(3)), name='dualConstr')\n",
    "SD2 = SPSD.addConstr(gp.quicksum(g[i] for i in range(2)) <= 1.2, name='uncertSet1')\n",
    "SD3 = SPSD.addConstr(gp.quicksum(g[i] for i in range(3)) <= 1.8, name='uncertSet2')\n",
    "SD4 = SPSD.addConstrs((w[j] <= lab[j] for j in range(3)), name='uncertSetLinear1') #SDSP4~6: product-linearization\n",
    "SD5 = SPSD.addConstrs((w[j] <= g[j] * M[j] for j in range(3)), name='uncertSetLinear2')\n",
    "SD6 = SPSD.addConstrs((w[j] >= (lab[j] - (1 - g[j]) * M[j]) for j in range(3)), name='uncertSetLinear3')\n",
    "obj = gp.quicksum(dl[i] * lab[i] + du[i] * w[i] - z[i].x * pi[i] for i in range(3))\n",
    "SPSD.Params.LogToConsole = 0\n",
    "SPSD.setObjective(obj, GRB.MAXIMIZE)  # set Objective is max\n",
    "SPSD.write(\"SPSD.lp\")\n",
    "SPSD.optimize()  # Solve Model\n",
    "\n",
    "print('Optimal value '+str(SPSD.ObjVal))\n",
    "print('Optimal solution', end = \" \")\n",
    "for i in SPSD.getVars():\n",
    "    print('%s = %g' % (i.varName, i.x), end = \" \")\n",
    "print()\n",
    "\n",
    "UB = LB - η.x + SPSD.objval\n",
    "print('UB: '+str(UB))"
   ]
  },
  {
   "cell_type": "code",
   "execution_count": 8,
   "id": "bb50a3ce-d540-4cd4-9e97-3d63ee1532df",
   "metadata": {},
   "outputs": [
    {
     "name": "stdout",
     "output_type": "stream",
     "text": [
      "k: 1\n",
      "Optimal value 27580.0\n",
      "Optimal solution y[0] = -0 y[1] = -0 y[2] = 1 z[0] = -0 z[1] = -0 z[2] = 700 g[0] = 0 g[1] = 0 g[2] = 0 η = 13254 \n",
      "LB: 27580.0\n",
      "Optimal value 16910.0\n",
      "Optimal solution lambda[0] = 20 lambda[1] = 25 lambda[2] = 27 w[0] = 0 w[1] = 0 w[2] = 0 pi[0] = 3 pi[1] = 2 pi[2] = 0 g[0] = 0 g[1] = 0 g[2] = 0 \n",
      "UB: 31236.0\n",
      "k: 2\n",
      "Optimal value 29976.0\n",
      "Optimal solution y[0] = 1 y[1] = 0 y[2] = 1 z[0] = 332 z[1] = 0 z[2] = 368 g[0] = 0 g[1] = 0 g[2] = 0 η = 15914 \n",
      "LB: 29976.0\n",
      "Optimal value 16474.0\n",
      "Optimal solution lambda[0] = 22 lambda[1] = 27 lambda[2] = 24 w[0] = 0 w[1] = 0 w[2] = 0 pi[0] = 0 pi[1] = 4 pi[2] = 2 g[0] = 0 g[1] = 0 g[2] = 0 \n",
      "UB: 30536.0\n",
      "k: 3\n",
      "Optimal value 30536.0\n",
      "Optimal solution y[0] = 1 y[1] = 0 y[2] = 1 z[0] = 332 z[1] = 0 z[2] = 368 g[0] = 0 g[1] = 0 g[2] = 0 η = 16474 \n",
      "LB: 30536.0\n",
      "Optimal value 16474.0\n",
      "Optimal solution lambda[0] = 22 lambda[1] = 27 lambda[2] = 24 w[0] = 0 w[1] = 0 w[2] = 0 pi[0] = 0 pi[1] = 4 pi[2] = 2 g[0] = 0 g[1] = 0 g[2] = 0 \n",
      "UB: 30536.0\n",
      "30536.0\n"
     ]
    }
   ],
   "source": [
    "#given y and z, derive the optimal g, lambda and pi thus, a cutting plane is created\n",
    "\n",
    "while UB - LB > 10e-4 and k < 8:\n",
    "    k = k + 1  # Iterative counting\n",
    "    print('k: '+str(k))\n",
    "    MP.Params.LogToConsole = 0\n",
    "    SPSD.Params.LogToConsole = 0\n",
    "    # create varibales and add the following constraints\n",
    "    #xx = MP.addVars(3, 3, lb=0, vtype=GRB.CONTINUOUS, name='x')\n",
    "    #d = [dl[i] + du[i] * g[i].x for i in range(3)]\n",
    "    #Column2 = MP.addConstrs(((gp.quicksum(xx[i, j] for j in range(3))) <= z[i] for i in range(3)), name='column2')\n",
    "    #Column3 = MP.addConstrs(((gp.quicksum(xx[i, j] for i in range(3))) >= d[j] for j in range(3)), name='column3')\n",
    "    #Column7 = MP.addConstr(gp.quicksum(C[i][j] * xx[i, j] for i in range(3) for j in range(3)) <= η)\n",
    "    Column2 = MP.addConstr(gp.quicksum(dl[i] * lab[i].x + du[i] * w[i].x - z[i] * pi[i].x for i in range(3)) <= η , name='constrGen')\n",
    "    MP.write('MPSD_' + str(k) + '.lp')\n",
    "    MP.optimize()\n",
    "    print('Optimal value '+str(MP.ObjVal))\n",
    "    print('Optimal solution', end = \" \")\n",
    "    for i in MP.getVars():\n",
    "        print('%s = %g' % (i.varName, i.x), end = \" \")\n",
    "    print()\n",
    "    LB = MP.objval  # update LB\n",
    "    print('LB: '+str(LB))\n",
    "    obj = gp.quicksum(dl[i] * lab[i] + du[i] * w[i] - z[i].x * pi[i] for i in range(3))  # update SPSD's obj\n",
    "\n",
    "    SPSD.setObjective(obj, GRB.MAXIMIZE)\n",
    "    SPSD.write('SPSD_' + str(k) + '.lp')\n",
    "    SPSD.optimize()\n",
    "    print('Optimal value '+str(SPSD.ObjVal))\n",
    "    print('Optimal solution', end = \" \")\n",
    "    for i in SPSD.getVars():\n",
    "        print('%s = %g' % (i.varName, i.x), end = \" \")\n",
    "    print()\n",
    "    UB = min(UB, LB - η.x + SPSD.objval)  # update UB\n",
    "    print('UB: '+str(UB))\n",
    "print(UB)\n"
   ]
  },
  {
   "cell_type": "code",
   "execution_count": null,
   "id": "bf5fd927-7e2f-4911-9aa7-14e4c51415c7",
   "metadata": {},
   "outputs": [],
   "source": []
  }
 ],
 "metadata": {
  "kernelspec": {
   "display_name": "Python 3 (ipykernel)",
   "language": "python",
   "name": "python3"
  },
  "language_info": {
   "codemirror_mode": {
    "name": "ipython",
    "version": 3
   },
   "file_extension": ".py",
   "mimetype": "text/x-python",
   "name": "python",
   "nbconvert_exporter": "python",
   "pygments_lexer": "ipython3",
   "version": "3.9.0"
  }
 },
 "nbformat": 4,
 "nbformat_minor": 5
}
